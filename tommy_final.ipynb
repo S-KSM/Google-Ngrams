{
 "cells": [
  {
   "cell_type": "code",
   "execution_count": 5,
   "metadata": {
    "collapsed": false
   },
   "outputs": [],
   "source": [
    "from google_ngram_downloader import readline_google_store\n",
    "import operator\n",
    "import nltk\n",
    "import re\n",
    "import string\n",
    "\n",
    "\n",
    "total = {}\n",
    "\n",
    "for n in range(1,5):\n",
    "    fname, url, records = next(readline_google_store(ngram_len = n, lang = 'chi-sim'))\n",
    "    notEoF = True\n",
    "    try:\n",
    "        while notEoF:\n",
    "            myrecord = next(records)\n",
    "            temp = \"\"\n",
    "            for i in myrecord[0] :\n",
    "                if re.search(r'[A-Za-z0-9\\s\\_]', i):\n",
    "                    pass\n",
    "                    #print(\"yes\")\n",
    "                else:\n",
    "                    temp += i\n",
    "    #print(c)\n",
    "            temp = re.sub('[%s]' % re.escape(string.punctuation), '', temp,re.UNICODE) #Gets rid of punctuations\n",
    "            if len(temp) == 4:    \n",
    "                num = myrecord[2] #the number of times it was shown up\n",
    "                if temp in total: #if the ngram is in our total dictionary\n",
    "                    total[temp] += num # add the number of times it is repeated in this new instance\n",
    "                else:\n",
    "                    total[temp] = num # adding the ngram to our dictionary\n",
    "    except:\n",
    "        notEoF = False    \n",
    "\n",
    "        \n",
    "sorted_x = sorted(total.items(), key=operator.itemgetter(1),reverse=True)\n",
    "top_100 = sorted_x[0:100] # change the numbers in brackets to expand the list. For instance, [0:10] shows the top 10\n",
    "top_100\n",
    "\n",
    "f = open(\"top_100_updated.txt\",\"w\",encoding='utf-8')\n",
    "\n",
    "for ngram in top_100:\n",
    "    f.write(ngram[0]+\",\"+str(ngram[1])+\"\\n\")\n",
    "    \n",
    "\n",
    "f.close()"
   ]
  },
  {
   "cell_type": "code",
   "execution_count": 6,
   "metadata": {
    "collapsed": true
   },
   "outputs": [],
   "source": [
    "g = open(\"total.txt\",\"w\",encoding='utf-8')\n",
    "for ngram in sorted_x:\n",
    "    g.write(ngram[0]+\",\"+str(ngram[1])+\"\\n\")\n",
    "    \n",
    "g.close()"
   ]
  },
  {
   "cell_type": "code",
   "execution_count": null,
   "metadata": {
    "collapsed": true
   },
   "outputs": [],
   "source": []
  }
 ],
 "metadata": {
  "kernelspec": {
   "display_name": "Python 3",
   "language": "python",
   "name": "python3"
  },
  "language_info": {
   "codemirror_mode": {
    "name": "ipython",
    "version": 3
   },
   "file_extension": ".py",
   "mimetype": "text/x-python",
   "name": "python",
   "nbconvert_exporter": "python",
   "pygments_lexer": "ipython3",
   "version": "3.5.1"
  }
 },
 "nbformat": 4,
 "nbformat_minor": 0
}
